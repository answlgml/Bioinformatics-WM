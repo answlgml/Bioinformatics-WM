{
 "cells": [
  {
   "cell_type": "markdown",
   "metadata": {
    "deletable": false,
    "editable": false,
    "nbgrader": {
     "grade": false,
     "grade_id": "cell-5cbb556bc98f2124",
     "locked": true,
     "schema_version": 3,
     "solution": false
    }
   },
   "source": [
    "# Day 6 notebook\n",
    "\n",
    "The objectives of this notebook are to practice with the concepts of\n",
    "\n",
    "* de Bruijn assembly\n",
    "* sequencing errors\n",
    "* repeats\n",
    "\n",
    "This notebook is intended to be solved by hand.  You are welcome to use any code if that helps you.  You are strongly encouraged to work with your group members to understand and solve each problem."
   ]
  },
  {
   "cell_type": "markdown",
   "metadata": {
    "deletable": false,
    "editable": false,
    "nbgrader": {
     "grade": false,
     "grade_id": "cell-6d0236d29631f9bb",
     "locked": true,
     "schema_version": 3,
     "solution": false
    }
   },
   "source": [
    "## PROBLEM 1: Minimum overlap lengths and read spectra (1 POINT)\n",
    "Recall that the de Bruijn approach to genome assembly with shotgun sequencing reads is to approximate the $k$-mer spectrum of the genome by the union of the $k$-mer spectra of the reads and then to use an Eulerian path approach to computing the assembly.  In the absence of sequencing errors, this approach may be successful if the read spectrum is equal to the genome spectrum.\n",
    "\n",
    "On the other hand, the fragment assembly approach for the same shotgun sequencing data is to find overlaps between pairs of reads and then to compute a superstring (ideally the shortest such superstring).  In practice, one typically only considers overlaps between pairs of reads that are at least of some minimum length, `min_overlap`.  Thus, in the absence of sequencing errors, this approach may be successful if the reads cover every position of the genome *and*  each pair of adjacent reads (in terms of their position along the genome) overlaps by at least `min_overlap`.\n",
    "\n",
    "In this problem, we will explore the relationship between the `min_overlap` parameter for fragment assembly and the value of $k$ for the de Bruijn approach.\n",
    "\n",
    "Suppose that a set of error-free shotgun sequencing reads satisfies the requirements for fragment assembly to be successful with a minimum overlap length of `min_overlap` and that all reads are longer than twice the value of `min_overlap`.  Write a function, `largest_k`, that given `min_overlap` as input, outputs the largest value of $k$ such that we are guaranteed that the read spectrum is equal to the genome spectrum (such that the de Bruijn approach may be successful).\n",
    "\n",
    "*Hint: consider k-mers that come from a region of the genome where two reads overlap by exactly `min_overlap` bases*"
   ]
  },
  {
   "cell_type": "code",
   "execution_count": 27,
   "metadata": {},
   "outputs": [],
   "source": [
    "#주어진 힌트에 따르면, 리드에서 두 리드가 정확히 min_overlap만큼 겹치는 영역에서 k-mer를 고려해야 한다. \n",
    "#두 리드가 겹치는 구간에서는 동일한 k-mer가 나타나게 되므로 k의 최대값은 min_overlap + 1이어야, 리드 스펙트럼이 실제 게놈 스펙트럼과 일치한다. \n",
    "#두 리드가 min_overlap 만큼 겹칠 때, k-mer가 겹치는 구간을 완전히 포함하려면 k가 그 이상일 수 없고, 최대 min_overlap + 1이 되어야 한다."
   ]
  },
  {
   "cell_type": "code",
   "execution_count": 28,
   "metadata": {
    "nbgrader": {
     "grade": false,
     "grade_id": "cell-07671210270ae9d3",
     "locked": false,
     "schema_version": 3,
     "solution": true
    }
   },
   "outputs": [],
   "source": [
    "def largest_k(min_overlap):\n",
    "    \"\"\"Returns the largest value of k for which the read spectrum = genome spectrum\n",
    "       when all reads overlap by at least min_overlap\n",
    "    Args:\n",
    "        min_overlap: an integer specifying the minimum overlap length between adjacent reads\n",
    "    Returns:\n",
    "        k, an integer\n",
    "    \"\"\"    \n",
    "    return min_overlap + 1\n",
    "# min_overlap을 입력으로 받아, 겹치는 구간에서 k-mer가 리드 스펙트럼과 게놈 스펙트럼이 동일해질 수 있는 최대 k 값을 반환합니다.\n",
    "# 최대 k는 min_overlap에 1을 더한 값으로 설정합니다."
   ]
  },
  {
   "cell_type": "markdown",
   "metadata": {
    "tags": []
   },
   "source": [
    "###\n",
    "### Written reasoning for your function\n",
    "###\n"
   ]
  },
  {
   "cell_type": "code",
   "execution_count": 29,
   "metadata": {
    "deletable": false,
    "editable": false,
    "nbgrader": {
     "grade": true,
     "grade_id": "problem_1",
     "locked": true,
     "points": 1,
     "schema_version": 3,
     "solution": false
    }
   },
   "outputs": [],
   "source": [
    "assert isinstance(largest_k(20), int), \"return value should be an integer\"\n",
    "###\n",
    "### AUTOGRADER TEST - DO NOT REMOVE\n",
    "###\n"
   ]
  },
  {
   "cell_type": "markdown",
   "metadata": {
    "deletable": false,
    "editable": false,
    "nbgrader": {
     "grade": false,
     "grade_id": "cell-e0bc2a991e58baaf",
     "locked": true,
     "schema_version": 3,
     "solution": false
    }
   },
   "source": [
    "## PROBLEM 2: Sequencing errors and $k$-mers (1 POINT)\n",
    "Sequencing errors in reads result in the spectra for those reads having potentially false $k$-mers (i.e., $k$-mers that are not in the genome spectrum).  Write a function `minimum_errors` that takes as input $k$ and the length, $L$, of a read and returns the *minimum* number of base substitution errors in the read such that the read may contain *only* false $k$-mers."
   ]
  },
  {
   "cell_type": "code",
   "execution_count": 30,
   "metadata": {},
   "outputs": [],
   "source": [
    "# 이 문제를 해결하기 위한 목표는 읽기의 모든 k-mer가 거짓 k-mer가 되도록 염기 대체 오류의 최소 수를 결정하는 것\n",
    "# 모든 kmer가 적어도 한 개의 틀린 염기를 가지도록 해야 함\n",
    "# read는 실제 게놈의 모든 k-mer와 일치\n",
    "# 전체 read L은 (L−k+1) k-mers를 가짐\n",
    "# read의 모든 k-mer가 잘못되게 하려면 모든 k-mer를 포괄하는 전략적 위치에 대체 항목을 도입해야 함"
   ]
  },
  {
   "cell_type": "code",
   "execution_count": 44,
   "metadata": {
    "nbgrader": {
     "grade": false,
     "grade_id": "cell-39204f38b2763da3",
     "locked": false,
     "schema_version": 3,
     "solution": true,
     "task": false
    },
    "scrolled": true
   },
   "outputs": [],
   "source": [
    "def minimum_errors(k, l):\n",
    "    \"\"\"Returns the minimum number of base substitution errors in a read\n",
    "    such that the read may contain only false k-mers.\n",
    "    Args:\n",
    "        k: the length of substrings in the spectrum, an integer\n",
    "        l: the length of a read, an integer\n",
    "    Returns:\n",
    "        number of base substitution errors, an integer\n",
    "    \"\"\"  \n",
    "    num_kmers = l - k + 1\n",
    "    return (num_kmers + k - 1) // k"
   ]
  },
  {
   "cell_type": "code",
   "execution_count": 47,
   "metadata": {},
   "outputs": [],
   "source": [
    "# l−k+1: kmer 수\n",
    "# k - 1: kmer 수에 k-1을 더해서 나중에 반올림 저절로 되도록. \n",
    "# // k: 정수로 나오도록. \n",
    "# kmer 수를 k로 나눠 나머지가 없으면 k-1 안해도 exact number of errors 리턴된다. \n",
    "# 근데 나머지 있으면, k−1 더해준 부분이 반올림을 보장한다. "
   ]
  },
  {
   "cell_type": "code",
   "execution_count": 46,
   "metadata": {
    "deletable": false,
    "editable": false,
    "nbgrader": {
     "grade": true,
     "grade_id": "problem_2",
     "locked": true,
     "points": 1,
     "schema_version": 3,
     "solution": false
    }
   },
   "outputs": [],
   "source": [
    "assert isinstance(minimum_errors(13, 100), int), \"minimum_errors should return an integer value\"\n",
    "###\n",
    "### AUTOGRADER TEST - DO NOT REMOVE\n",
    "###\n"
   ]
  },
  {
   "cell_type": "markdown",
   "metadata": {
    "deletable": false,
    "editable": false,
    "nbgrader": {
     "grade": false,
     "grade_id": "cell-59081d22b228c71e",
     "locked": true,
     "schema_version": 3,
     "solution": false
    }
   },
   "source": [
    "## PROBLEM 3: Repeats (1 POINT)\n",
    "Suppose you are given the following set of reads:\n",
    "\n",
    "    AAACT\n",
    "    AAAGG\n",
    "    AAAGT\n",
    "    AAATT\n",
    "    CCAAA\n",
    "    CTAAA\n",
    "    GGAAA\n",
    "    TTAAA\n",
    "\n",
    "How many shortest superstrings are there for this set of reads?"
   ]
  },
  {
   "cell_type": "markdown",
   "metadata": {
    "deletable": false,
    "editable": false,
    "nbgrader": {
     "grade": false,
     "grade_id": "cell-25aca39fe05320a5",
     "locked": true,
     "schema_version": 3,
     "solution": false
    }
   },
   "source": [
    "For autograding purposes, answer this question below by assigning the appropriate value to the variable `num_shortest_superstrings`."
   ]
  },
  {
   "cell_type": "code",
   "execution_count": 34,
   "metadata": {},
   "outputs": [],
   "source": [
    "# CCAAA AAACT CTAAA AAAGG GGAAA AAATT TTAAA AAAGT\n",
    "# The 2&3, 4&5, 6&7 strings can be changed in order.\n",
    "# 3! = 6"
   ]
  },
  {
   "cell_type": "code",
   "execution_count": 35,
   "metadata": {
    "nbgrader": {
     "grade": false,
     "grade_id": "cell-41e22d418828d35b",
     "locked": false,
     "schema_version": 3,
     "solution": true
    }
   },
   "outputs": [],
   "source": [
    "\n",
    "num_shortest_superstrings = 6\n",
    "\n"
   ]
  },
  {
   "cell_type": "code",
   "execution_count": 36,
   "metadata": {
    "deletable": false,
    "editable": false,
    "nbgrader": {
     "grade": true,
     "grade_id": "problem_3",
     "locked": true,
     "points": 1,
     "schema_version": 3,
     "solution": false
    }
   },
   "outputs": [],
   "source": [
    "# autograding tests for num_shortest_superstrings\n",
    "assert isinstance(num_shortest_superstrings, int), \"num_shortest_superstrings should be assigned an integer value\"\n",
    "###\n",
    "### AUTOGRADER TEST - DO NOT REMOVE\n",
    "###\n"
   ]
  },
  {
   "cell_type": "code",
   "execution_count": null,
   "metadata": {},
   "outputs": [],
   "source": []
  }
 ],
 "metadata": {
  "celltoolbar": "Create Assignment",
  "kernelspec": {
   "display_name": "Python 3 [3.10]",
   "language": "python",
   "name": "python3"
  },
  "language_info": {
   "codemirror_mode": {
    "name": "ipython",
    "version": 3
   },
   "file_extension": ".py",
   "mimetype": "text/x-python",
   "name": "python",
   "nbconvert_exporter": "python",
   "pygments_lexer": "ipython3",
   "version": "3.10.2"
  }
 },
 "nbformat": 4,
 "nbformat_minor": 4
}

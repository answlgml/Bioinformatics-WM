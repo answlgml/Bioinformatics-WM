{
 "cells": [
  {
   "cell_type": "markdown",
   "metadata": {
    "deletable": false,
    "editable": false,
    "nbgrader": {
     "grade": false,
     "grade_id": "cell-43115b884ed99e6e",
     "locked": true,
     "schema_version": 3,
     "solution": false
    }
   },
   "source": [
    "# Day 8 notebook\n",
    "\n",
    "The objectives of this notebook are to practice with the concepts of\n",
    "\n",
    "* dynamic programming\n",
    "* memoization\n",
    "* higher-order functions"
   ]
  },
  {
   "cell_type": "markdown",
   "metadata": {
    "deletable": false,
    "editable": false,
    "nbgrader": {
     "grade": false,
     "grade_id": "cell-74938f6735d4539c",
     "locked": true,
     "schema_version": 3,
     "solution": false
    }
   },
   "source": [
    "## Knapsack problem\n",
    "\n",
    "In today's activity, we will practice the concept of dynamic programming with a classical problem in Computer Sciences, the \"Knapsack problem.\"  In the knapsack problem, we imagine that we are packing a knapsack (also known as a backpack) for a trip somewhere (e.g., a long backpacking trip in a remote area).  There are many items that we might like to pack in our knapsack, but it has a limited amount of space.  Suppose that there are $n$ items that we might want to pack, and the $i$th item has \"size\" $s_i$ and a \"value\" $v_i$.  The \"size\" is how much space the item will take up in the knapsack and the \"value\" is some measure of how important that item is for our trip (e.g., perhaps all of our items are food items and the value could be the number of calories in each food item).  We are given that the knapsack has a capacity $C$.\n",
    "\n",
    "The Knapsack problem is thus to determine a subset of items to pack that \n",
    "1. can all fit in the knapsack together and \n",
    "2. maximizes the total value of the items in the knapsack.  \n",
    "    \n",
    "Mathematically, we wish to perform the following optimization, where $I$ is the set of $n$ items:\n",
    "\n",
    "$\\max_{I^* \\subset I} \\sum_{i \\in I^*} v_i \\\\ \\textrm{subject to the constraint}\\ \\sum_{i \\in I^*} s_i \\leq C$\n",
    "\n",
    "### Solving Knapsack by dynamic programming\n",
    "The Knapsack problem can be solved via a dynamic programming algorithm that breaks this problem down into the following subproblem. Let $F[capacity, num\\_items]$ be the maximum value of items that could be packed into a knapsack with $capacity$ available space, only considering the first $num\\_items$.  This subproblem can be solved recursively via the following recurrence:\n",
    "\n",
    "$F[capacity, num\\_items] = \\left\\{\n",
    "\\begin{array}{ll}\n",
    "F[capacity, num\\_items - 1], & \\textrm{if } s_{num\\_items} > capacity \\\\\n",
    "\\max\\left\\{\n",
    "\\begin{array}{l}\n",
    "F[capacity, num\\_items - 1], \\\\\n",
    "F[capacity - s_{num\\_items}, num\\_items - 1] + v_{num\\_items}\n",
    "\\end{array}\\right.,& \\textrm{if } s_{num\\_items} \\leq capacity\n",
    "\\end{array}\\right.$\n",
    "\n",
    "The intuition behind this recurrence is that we consider two cases for the item indexed by $num\\_items$:\n",
    "1.  we *exclude* this item from the knapsack (first term in the max) or\n",
    "2.  we *include* this item in the knapsack, assuming it can fit in the given capacity (second term in the max)\n",
    "\n",
    "Below we will practice with implementing a dynamic programming algorithm that uses this subproblem definition to solve the problem of finding the maximum total *value* of items that could be packed into the knapsack.  We will *not* address the related problem of determining the actual subset of items that achieves that maximum total value."
   ]
  },
  {
   "cell_type": "markdown",
   "metadata": {
    "deletable": false,
    "editable": false,
    "nbgrader": {
     "grade": false,
     "grade_id": "cell-eb684527cd8954fb",
     "locked": true,
     "schema_version": 3,
     "solution": false
    }
   },
   "source": [
    "### PROBLEM 1: Recursive implementation (1 POINT)\n",
    "\n",
    "We will start by simply implementing the solution via a recursive function, which implements the recurrence above.  This will not be an efficient algorithm, but it will be helpful to start with this as a baseline.  You are provided with some of the code already."
   ]
  },
  {
   "cell_type": "code",
   "execution_count": 3,
   "metadata": {
    "nbgrader": {
     "grade": false,
     "grade_id": "cell-880617c3792b0553",
     "locked": false,
     "schema_version": 3,
     "solution": true
    }
   },
   "outputs": [],
   "source": [
    "def knapsack_score_recursive(capacity, sizes, values):\n",
    "    \"\"\"Solves the Knapsack problem via a recursive algorithm.\n",
    "\n",
    "    Args:\n",
    "        capacity: a number giving the amount of space in the knapsack. 배낭의 총 용량, 즉 얼마나 많은 크기의 물건을 담을 수 있는지.\n",
    "        sizes: a list of the size of each possible item. 각 물건의 크기를 나타내는 리스트. \n",
    "        values: a list of the value of each possible item. 각 물건의 가치를 나타내는 리스트. \n",
    "    Returns:\n",
    "        A number indicating the maximum total value of items that can be packed\n",
    "        in the knapsack, with each item included in the knapsack at most once.\n",
    "    \"\"\"\n",
    "\n",
    "    # A local helper function that computes the Knapsack subproblem (F[capacity, num_items])\n",
    "    # described above in a recursive manner. 재귀적으로 배낭 문제를 해결. \n",
    "    def subproblem(capacity, num_items):\n",
    "        # base case\n",
    "        # 물건이 하나도 남아 있지 않다면 (num_items == 0), 넣을 물건이 없어 배낭의 총 가치는 0. 함수는 0을 반환. 재귀 함수가 종료될 조건. \n",
    "        if num_items == 0:\n",
    "            return 0\n",
    "        # 크기가 너무 커서 물건을 넣을 수 없는 경우:물건을 넣지 않을 수밖에 없음. \n",
    "        # 현재 고려 중인 물건의 크기(sizes[num_items - 1])가 배낭의 남은 용량(capacity)보다 크다면, 그 물건은 넣을 수 없음. \n",
    "        elif sizes[num_items - 1] > capacity:\n",
    "            return subproblem(capacity, num_items - 1)\n",
    "        # 물건을 넣을 수 있는 경우: 물건은 넣지 않거나 넣거나 선택 가능. \n",
    "        else:\n",
    "            # Case 1: Exclude the current item. 넣지 않기로 선택한 경우. \n",
    "            exclude_item = subproblem(capacity, num_items - 1)\n",
    "            # Case 2: Include the current item. 넣기로 선택한 경우. \n",
    "            # 그 물건의 가치를 더하고 (values[num_items - 1]), 남은 용량에 대해 재귀적으로 호출하여 계산. \n",
    "            include_item = values[num_items - 1] + subproblem(capacity - sizes[num_items - 1], num_items - 1)\n",
    "            # 두 경우 중에서 더 큰 값을 선택\n",
    "            return max(exclude_item, include_item)\n",
    "\n",
    "    return subproblem(capacity, len(sizes))\n"
   ]
  },
  {
   "cell_type": "code",
   "execution_count": 4,
   "metadata": {
    "deletable": false,
    "editable": false,
    "nbgrader": {
     "grade": true,
     "grade_id": "knapsack_score_recursive",
     "locked": true,
     "points": 1,
     "schema_version": 3,
     "solution": false
    }
   },
   "outputs": [
    {
     "name": "stdout",
     "output_type": "stream",
     "text": [
      "SUCCESS: knapsack_score_recursive passed all tests!\n"
     ]
    }
   ],
   "source": [
    "# tests for knapsack_score_recursive\n",
    "test_sizes = (5, 7, 3, 2)\n",
    "test_values = (7, 8, 5, 3)\n",
    "assert knapsack_score_recursive(0, test_sizes, test_values) == 0\n",
    "assert knapsack_score_recursive(2, test_sizes, test_values) == 3\n",
    "assert knapsack_score_recursive(3, test_sizes, test_values) == 5\n",
    "assert knapsack_score_recursive(5, test_sizes, test_values) == 8\n",
    "assert knapsack_score_recursive(12, test_sizes, test_values) == 16\n",
    "assert knapsack_score_recursive(17, test_sizes, test_values) == 23\n",
    "assert knapsack_score_recursive(17, [], []) == 0\n",
    "assert knapsack_score_recursive(17, [18], [1]) == 0\n",
    "print(\"SUCCESS: knapsack_score_recursive passed all tests!\")"
   ]
  },
  {
   "cell_type": "code",
   "execution_count": 5,
   "metadata": {},
   "outputs": [],
   "source": [
    "#위는 동일한 하위 문제를 반복적으로 다시 계산하기 때문에 high time complexity.이를 최적화하기 위해 memoization/bottom-up dynamic programming 수행"
   ]
  },
  {
   "cell_type": "markdown",
   "metadata": {
    "deletable": false,
    "editable": false,
    "nbgrader": {
     "grade": false,
     "grade_id": "cell-80f332b28f7afc92",
     "locked": true,
     "schema_version": 3,
     "solution": false
    }
   },
   "source": [
    "### PROBLEM 2: Memoized implementation (1 POINT)\n",
    "To implement a dynamic programming approach to this problem, we will either need to use *memoization*, or compute values to the subproblems in a *bottom-up* approach.  Let's start with the memoization strategy, as it requires minimal modification to your recursive solution above.\n",
    "\n",
    "Recall that the memoization strategy is to store the return values of a function in a lookup table (say a Python dictionary) indexed by the argument values for the function and to simply return the value in the lookup table when the function is called again with the same arguments.  We could do this by re-writing the `subproblem` code above, but it will be cleaner to do this in a general way via a *higher-order function* that can create a memoized version of *any* function. Below is the skeleton code for such a function that will return a memoized version of its input function, `func`, which we will assume takes exactly two arguments.  Complete the code below."
   ]
  },
  {
   "cell_type": "code",
   "execution_count": 6,
   "metadata": {},
   "outputs": [],
   "source": [
    "# memoization 전략은 이전에 계산된 값을 저장해 두고, 동일 함수가 호출되면 저장된 결과를 반환함해 중복 계산을 피함. \n",
    "# 주어진 memoize_2arg_func 함수는 두 개의 인자를 받는 함수를 메모이제이션하는 역할. "
   ]
  },
  {
   "cell_type": "code",
   "execution_count": 7,
   "metadata": {
    "nbgrader": {
     "grade": false,
     "grade_id": "cell-8b3fd59f0545dc5d",
     "locked": false,
     "schema_version": 3,
     "solution": true
    }
   },
   "outputs": [],
   "source": [
    "def memoize_2arg_func(func):\n",
    "    \"\"\"Creates a memoized version of a function that takes exactly two arguments.\n",
    "\n",
    "    Args:\n",
    "        func: a function that takes exactly two arguments. 두 개의 인자를 받는 함수. \n",
    "    Returns:\n",
    "        A memoized version of the function func\n",
    "    \"\"\"\n",
    "    # create a dictionary that will map arguments to return values of func\n",
    "    # output은 함수 호출 결과를 딕셔너리로 저장. 키는 함수에 전달된 인자 (arg1, arg2)의 튜플로 저장되고, 값은 계산된 함수 func(arg1, arg2)의 결과. \n",
    "    outputs = dict()\n",
    "    # define a new function that will be the memoized version\n",
    "    # memoized는 (arg1, arg2)가 outputs 딕셔너리에 저장되어 있는지 확인하고, 저장되어 있지 않다면 해당 인자로 func를 실행하여 결과를 저장\n",
    "    def memoized(arg1, arg2):\n",
    "        # if the arguments are not in the dictionary, compute and store the result\n",
    "        if (arg1, arg2) not in outputs:\n",
    "            outputs[(arg1, arg2)] = func(arg1, arg2)\n",
    "        # return the stored result\n",
    "        return outputs[(arg1, arg2)]\n",
    "    \n",
    "    return memoized\n",
    "# 작동원리\n",
    "# 첫 호출: 함수가 처음 호출되면 outputs 딕셔너리에 해당 인자 (arg1, arg2)가 없기 때문에, 원래 함수 func를 호출하여 그 결과를 저장\n",
    "# 두 번째 호출: 같은 인자로 다시 호출되면, outputs에 이미 결과가 저장되어 있으므로 저장된 값을 즉시 반환"
   ]
  },
  {
   "cell_type": "code",
   "execution_count": 8,
   "metadata": {
    "deletable": false,
    "editable": false,
    "nbgrader": {
     "grade": true,
     "grade_id": "memoize_2arg_func",
     "locked": true,
     "points": 1,
     "schema_version": 3,
     "solution": false
    }
   },
   "outputs": [
    {
     "name": "stdout",
     "output_type": "stream",
     "text": [
      "SUCCESS: memoize_2arg_func passed all tests!\n"
     ]
    }
   ],
   "source": [
    "# tests for memoize_2arg_func\n",
    "num_calls_to_test_func = 0 # keep track of how many times test_func is run\n",
    "# a test function that returns the sum of two numbers\n",
    "def test_func(x, y):\n",
    "    global num_calls_to_test_func\n",
    "    num_calls_to_test_func += 1\n",
    "    return x + y\n",
    "test_func = memoize_2arg_func(test_func)\n",
    "\n",
    "assert test_func(1, 2) == 3\n",
    "assert num_calls_to_test_func == 1\n",
    "assert test_func(2, 3) == 5\n",
    "assert num_calls_to_test_func == 2\n",
    "assert test_func(1, 2) == 3 # repeated call\n",
    "assert num_calls_to_test_func == 2\n",
    "assert test_func(2, 3) == 5 # another repeated call\n",
    "assert num_calls_to_test_func == 2\n",
    "\n",
    "num_calls_to_test2_func = 0 # keep track of how many times test2_func is run\n",
    "# a second test function that returns the length k prefix of string s\n",
    "def test2_func(s, k):\n",
    "    global num_calls_to_test2_func\n",
    "    num_calls_to_test2_func += 1\n",
    "    return s[:k]\n",
    "test2_func = memoize_2arg_func(test2_func)\n",
    "\n",
    "assert test2_func(\"madison\", 3) == \"mad\"\n",
    "assert num_calls_to_test2_func == 1\n",
    "assert test2_func(\"madison\", 3) == \"mad\" # repeated call\n",
    "assert num_calls_to_test2_func == 1\n",
    "assert test2_func(\"madison\", 1) == \"m\"\n",
    "assert num_calls_to_test2_func == 2\n",
    "assert test2_func(\"madison\", 1) == \"m\" # another repeated call\n",
    "assert num_calls_to_test2_func == 2\n",
    "\n",
    "print(\"SUCCESS: memoize_2arg_func passed all tests!\")"
   ]
  },
  {
   "cell_type": "markdown",
   "metadata": {
    "deletable": false,
    "editable": false,
    "nbgrader": {
     "grade": false,
     "grade_id": "cell-407b0c35a72018a7",
     "locked": true,
     "schema_version": 3,
     "solution": false
    }
   },
   "source": [
    "Now paste in your `knapsack_score_recursive` code from above into the `knapsack_score_memoized` dynamic programming version of the algorithm below.  Note that `knapsack_score_memoized` creates a memoized version of the `subproblem` function using your `memoize_2arg_func` higher-order function. "
   ]
  },
  {
   "cell_type": "code",
   "execution_count": 9,
   "metadata": {
    "nbgrader": {
     "grade": false,
     "grade_id": "cell-1f57595cad8de8b1",
     "locked": false,
     "schema_version": 3,
     "solution": true
    }
   },
   "outputs": [],
   "source": [
    "def knapsack_score_memoized(capacity, sizes, values):\n",
    "    \"\"\"Solves the Knapsack problem via a top-down dynamic programming algorithm.\n",
    "\n",
    "    Args:\n",
    "        capacity: a number giving the amount of space in the knapsack.\n",
    "        sizes: a list of the size of each possible item\n",
    "        values: a list of the value of each possible item\n",
    "    Returns:\n",
    "        A number indicating the maximum total value of items that can be packed\n",
    "        in the knapsack, with each item included in the knapsack at most once.\n",
    "    \"\"\"\n",
    "    \n",
    "    def subproblem(capacity, num_items):\n",
    "        if num_items == 0:\n",
    "            return 0\n",
    "        elif sizes[num_items - 1] > capacity:\n",
    "            return subproblem(capacity, num_items - 1)\n",
    "        else:\n",
    "            # problem 1의 recursive에서처럼 물건 넣을 수 있는 경우 두가지 중 더 큰 값 선택\n",
    "            return max(\n",
    "                subproblem(capacity, num_items - 1),  # 넣을 수 있지만 안 넣을때\n",
    "                subproblem(capacity - sizes[num_items - 1], num_items - 1) + values[num_items - 1]  # 넣을 때\n",
    "            )\n",
    "    \n",
    "    # subproblem에 memoize 기능 추가\n",
    "    subproblem = memoize_2arg_func(subproblem)\n",
    "    return subproblem(capacity, len(sizes))"
   ]
  },
  {
   "cell_type": "code",
   "execution_count": 10,
   "metadata": {
    "deletable": false,
    "editable": false,
    "nbgrader": {
     "grade": false,
     "grade_id": "cell-6fb0586e53ddda29",
     "locked": true,
     "schema_version": 3,
     "solution": false
    }
   },
   "outputs": [
    {
     "name": "stdout",
     "output_type": "stream",
     "text": [
      "SUCCESS: knapsack_score_memoized passed all tests!\n"
     ]
    }
   ],
   "source": [
    "# tests for knapsack_score_memoized (not graded)\n",
    "test_sizes = (5, 7, 3, 2)\n",
    "test_values = (7, 8, 5, 3)\n",
    "assert knapsack_score_memoized(0, test_sizes, test_values) == 0\n",
    "assert knapsack_score_memoized(2, test_sizes, test_values) == 3\n",
    "assert knapsack_score_memoized(3, test_sizes, test_values) == 5\n",
    "assert knapsack_score_memoized(5, test_sizes, test_values) == 8\n",
    "assert knapsack_score_memoized(12, test_sizes, test_values) == 16\n",
    "assert knapsack_score_memoized(17, test_sizes, test_values) == 23\n",
    "assert knapsack_score_memoized(17, [], []) == 0\n",
    "assert knapsack_score_memoized(17, [18], [1]) == 0\n",
    "print(\"SUCCESS: knapsack_score_memoized passed all tests!\")"
   ]
  },
  {
   "cell_type": "markdown",
   "metadata": {
    "deletable": false,
    "editable": false,
    "nbgrader": {
     "grade": false,
     "grade_id": "cell-c63a47bd9123f78f",
     "locked": true,
     "schema_version": 3,
     "solution": false
    }
   },
   "source": [
    "#### Higher-order functions available in Python\n",
    "Python is a rich functional language and offers a number of higher-order functions in its standard library.  For example, the [`map`](https://docs.python.org/3/library/functions.html#map) and [`filter`](https://docs.python.org/3/library/functions.html#filter) functions are commonly-used higher-order functions that you should consider using.  Other higher-order functions are found in the [`functools`](https://docs.python.org/3/library/functools.html) module. In particular, the [functools.lru_cache](https://docs.python.org/3/library/functools.html#functools.lru_cache) function is a more general implementation of the memoize function that you wrote above.\n",
    "\n",
    "For higher-order functions that return functions, \"[decorator](https://docs.python.org/3/glossary.html#term-decorator)\" syntax can help.  For example,"
   ]
  },
  {
   "cell_type": "code",
   "execution_count": 11,
   "metadata": {
    "deletable": false,
    "editable": false,
    "nbgrader": {
     "grade": false,
     "grade_id": "cell-0eb96f0073b41d89",
     "locked": true,
     "schema_version": 3,
     "solution": false
    }
   },
   "outputs": [],
   "source": [
    "def test_func(x, y):\n",
    "    return x + y\n",
    "test_func = memoize_2arg_func(test_func)\n",
    "\n",
    "# is more succinctly written with decorator syntax as\n",
    "@memoize_2arg_func\n",
    "def test_func(x, y):\n",
    "    return x + y"
   ]
  },
  {
   "cell_type": "markdown",
   "metadata": {
    "deletable": false,
    "editable": false,
    "nbgrader": {
     "grade": false,
     "grade_id": "cell-5a2966d47a7d80a3",
     "locked": true,
     "schema_version": 3,
     "solution": false
    }
   },
   "source": [
    "### PROBLEM 3: Bottom-up implementation (1 POINT)\n",
    "Lastly, we will implement the knapsack dynamic programming algorithm in a bottom-up style.  Here we first create a matrix that will store all of the results of the subproblems, and compute the subproblems iteratively, starting with the smallest subproblems first.  Below is some partially completed code that you are to fill in.\n",
    "\n",
    "*Note: you should not make any calls to knapsack_score_recursive or knapsack_score_memoized in your solution.  You should simply be calculating entries in the matrix based on other previously calculated entries in the matrix.*"
   ]
  },
  {
   "cell_type": "code",
   "execution_count": null,
   "metadata": {},
   "outputs": [],
   "source": [
    "# 수업중에 배운 computational approach matrix랑 같은 원리"
   ]
  },
  {
   "cell_type": "code",
   "execution_count": 12,
   "metadata": {
    "nbgrader": {
     "grade": false,
     "grade_id": "cell-c4b37b13600a6a07",
     "locked": false,
     "schema_version": 3,
     "solution": true
    }
   },
   "outputs": [],
   "source": [
    "def knapsack_score_bottomup(capacity, sizes, values):\n",
    "    \"\"\"Solves the Knapsack problem via a bottom-up dynamic programming algorithm.\n",
    "\n",
    "    Args:\n",
    "        capacity: a number giving the amount of space in the knapsack.\n",
    "        sizes: a list of the size of each possible item\n",
    "        values: a list of the value of each possible item\n",
    "    Returns:\n",
    "        A number indicating the maximum total value of items that can be packed\n",
    "        in the knapsack, with each item included in the knapsack at most once.\n",
    "    \"\"\"\n",
    "    # inititialize a matrix (list of lists) to store the results of the subproblem F[num_items, capacity]\n",
    "    # 행은 0부터 capacity까지의 용량을 나타내고 열은 0부터 len(sizes)까지 고려되는 항목 수를 나타내는 2D 행렬(matrix)이 생성\n",
    "    matrix = [[None] * (len(sizes) + 1) for i in range(capacity + 1)]\n",
    "    \n",
    "    # 영상에서 한 것처럼 첫 번째 행렬부터 쭉 채우기. 이건 열. \n",
    "    for j in range(len(sizes) + 1):\n",
    "        matrix[0][j] = 0\n",
    "        \n",
    "    # 이건 행.\n",
    "    for i in range(capacity + 1):\n",
    "        matrix[i][0] = 0\n",
    "        \n",
    "    # fill in remaining elements. 나머지 순차적으로 채워넣기. \n",
    "    for i in range(1, capacity + 1):\n",
    "        for j in range(1, len(sizes) + 1):\n",
    "            # knapsack에 들어가는지 사이즈 확인\n",
    "            if sizes[j - 1] <= i:\n",
    "                # 들어가긴 들어가는데 넣을지 안넣을지 중에서 max 값\n",
    "                matrix[i][j] = max(\n",
    "                    matrix[i][j - 1],  # Exclude\n",
    "                    matrix[i - sizes[j - 1]][j - 1] + values[j - 1]  # Include\n",
    "                )\n",
    "            else:\n",
    "                # 맞지 않는 경우에는 이 항목이 없는 값만 사용\n",
    "                matrix[i][j] = matrix[i][j - 1]\n",
    "    \n",
    "    # 마지막으로 행렬의 오른쪽 하단에 있는 값(matrix[capacity][len(sizes)])은 주어진 용량과 항목으로 달성할 수 있는 최대값\n",
    "    return matrix[capacity][len(sizes)]"
   ]
  },
  {
   "cell_type": "code",
   "execution_count": 13,
   "metadata": {
    "deletable": false,
    "editable": false,
    "nbgrader": {
     "grade": true,
     "grade_id": "knapsack_score_bottomup",
     "locked": true,
     "points": 1,
     "schema_version": 3,
     "solution": false
    }
   },
   "outputs": [
    {
     "name": "stdout",
     "output_type": "stream",
     "text": [
      "SUCCESS: knapsack_score_bottomup passed all tests!\n"
     ]
    }
   ],
   "source": [
    "# tests for knapsack_score_bottomup\n",
    "test_sizes = (5, 7, 3, 2)\n",
    "test_values = (7, 8, 5, 3)\n",
    "assert knapsack_score_bottomup(0, test_sizes, test_values) == 0\n",
    "assert knapsack_score_bottomup(2, test_sizes, test_values) == 3\n",
    "assert knapsack_score_bottomup(3, test_sizes, test_values) == 5\n",
    "assert knapsack_score_bottomup(5, test_sizes, test_values) == 8\n",
    "assert knapsack_score_bottomup(12, test_sizes, test_values) == 16\n",
    "assert knapsack_score_bottomup(17, test_sizes, test_values) == 23\n",
    "assert knapsack_score_bottomup(17, [], []) == 0\n",
    "assert knapsack_score_bottomup(17, [18], [1]) == 0\n",
    "print(\"SUCCESS: knapsack_score_bottomup passed all tests!\")"
   ]
  },
  {
   "cell_type": "markdown",
   "metadata": {
    "deletable": false,
    "editable": false,
    "nbgrader": {
     "grade": false,
     "grade_id": "cell-264258bc1c1fe5e1",
     "locked": true,
     "schema_version": 3,
     "solution": false
    }
   },
   "source": [
    "### Comparing performance of the three implementations\n",
    "\n",
    "With your three implementations of an algorithm to solve the knapsack problem, let's test their runtime to see how they perform relative to each other."
   ]
  },
  {
   "cell_type": "code",
   "execution_count": 14,
   "metadata": {
    "deletable": false,
    "editable": false,
    "nbgrader": {
     "grade": false,
     "grade_id": "cell-988d67027cc8e4dc",
     "locked": true,
     "schema_version": 3,
     "solution": false
    }
   },
   "outputs": [
    {
     "name": "stdout",
     "output_type": "stream",
     "text": [
      "Recursive: 12.46352070600551 seconds\n",
      " Memoized: 0.5720028169962461 seconds\n",
      "Bottom-up: 0.3633419039979344 seconds\n"
     ]
    }
   ],
   "source": [
    "import timeit\n",
    "capacity = 100\n",
    "bigger_test_values = (6, 18, 28, 34, 4, 26, 38, 9, 36, 39, 33, 29, 3, 16, 37, 2, 24, 22, 30, 5)\n",
    "bigger_test_sizes = (21, 12, 6, 0, 34, 1, 17, 22, 4, 32, 16, 33, 8, 20, 3, 18, 39, 36, 37, 19)\n",
    "num_trials = 500 # number of times that timeit will run the function\n",
    "\n",
    "print(\"Recursive:\", timeit.timeit('knapsack_score_recursive(capacity, bigger_test_sizes, bigger_test_values)', \n",
    "                                  number=num_trials, globals=globals()), \"seconds\")\n",
    "print(\" Memoized:\", timeit.timeit('knapsack_score_memoized(capacity, bigger_test_sizes, bigger_test_values)', \n",
    "                                  number=num_trials, globals=globals()), \"seconds\")\n",
    "print(\"Bottom-up:\", timeit.timeit('knapsack_score_bottomup(capacity, bigger_test_sizes, bigger_test_values)', \n",
    "                                  number=num_trials, globals=globals()), \"seconds\")\n"
   ]
  },
  {
   "cell_type": "markdown",
   "metadata": {
    "deletable": false,
    "editable": false,
    "nbgrader": {
     "grade": false,
     "grade_id": "cell-97044924a2d817a3",
     "locked": true,
     "schema_version": 3,
     "solution": false
    }
   },
   "source": [
    "Do those timings match your expectations of how efficient these algorithms are relative to each other?  Write your thoughts in the cell below."
   ]
  },
  {
   "cell_type": "markdown",
   "metadata": {},
   "source": [
    "I predicted Bottom-up < Memoized < Recursive, runtime shortest to longest. \n",
    "It is undeniable that Recursive model would be the longest since the algorithm recalculates the same subproblems repeatedly. If the number of trials gets even larger, the time complexity will increase exponentially. \n",
    "Because the Memoized model still relies on the recursive structure, it would be less efficient thant Bottom-up model which uses less function calls and builds solutions iteratively."
   ]
  },
  {
   "cell_type": "code",
   "execution_count": null,
   "metadata": {},
   "outputs": [],
   "source": []
  }
 ],
 "metadata": {
  "celltoolbar": "Create Assignment",
  "kernelspec": {
   "display_name": "Python 3 [3.10]",
   "language": "python",
   "name": "python3"
  },
  "language_info": {
   "codemirror_mode": {
    "name": "ipython",
    "version": 3
   },
   "file_extension": ".py",
   "mimetype": "text/x-python",
   "name": "python",
   "nbconvert_exporter": "python",
   "pygments_lexer": "ipython3",
   "version": "3.10.2"
  }
 },
 "nbformat": 4,
 "nbformat_minor": 4
}
